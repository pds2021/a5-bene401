{
  "nbformat": 4,
  "nbformat_minor": 0,
  "metadata": {
    "colab": {
      "name": "bird_app.ipynb",
      "provenance": [],
      "authorship_tag": "ABX9TyOnvV3ywwI0VAQOMzwd8+sk",
      "include_colab_link": true
    },
    "kernelspec": {
      "name": "python3",
      "display_name": "Python 3"
    }
  },
  "cells": [
    {
      "cell_type": "markdown",
      "metadata": {
        "id": "view-in-github",
        "colab_type": "text"
      },
      "source": [
        "<a href=\"https://colab.research.google.com/github/pds2021/a5-bene401/blob/assignment_5/bird_app.ipynb\" target=\"_parent\"><img src=\"https://colab.research.google.com/assets/colab-badge.svg\" alt=\"Open In Colab\"/></a>"
      ]
    },
    {
      "cell_type": "code",
      "metadata": {
        "id": "e7dIGOZ35tAB"
      },
      "source": [
        "#!pip install -Uqq fastai \r\n",
        "from fastai.vision.all import *\r\n",
        "from fastai.vision.widgets import *"
      ],
      "execution_count": 18,
      "outputs": []
    },
    {
      "cell_type": "code",
      "metadata": {
        "colab": {
          "base_uri": "https://localhost:8080/"
        },
        "id": "6cNGv9fQ4_Jk",
        "outputId": "592f3d1b-6370-498d-db16-6ddc773f709c"
      },
      "source": [
        "# Dictionary zum Übersetzen der englischen Predictions des Modells ins Deutsche.\r\n",
        "# Model wurde nicht auf den eurasischen Feldsperling sondern den Spizella pusilla (engl. feeld sparrow) trainiert. \r\n",
        "birds = {\r\n",
        "    \"house sparrow\": \"Haussperling\",\r\n",
        "    \"Great Tit\": \"Kohlmeise\",\r\n",
        "    \"Blue Tit\": \"Blaumeise\",\r\n",
        "    \"Field Sparrow\": \"Feldsperling\",\r\n",
        "    \"Eurasian Blackbird\": \"Amsel\",\r\n",
        "    \"Eurasian Magpie\": \"Elster\",\r\n",
        "    \"common chaffinche\": \"Buchfinkt\",\r\n",
        "    \"European Greenfinch\": \"Grünfink\",\r\n",
        "    \"Carrion Crow\": \"Rabenkrähe\",\r\n",
        "    \"Woodpigeon\": \"Ringeltaube\" \r\n",
        "}\r\n",
        "\r\n",
        "# Download released Model of Github and lade es.\r\n",
        "download_url(\"https://github.com/pds2021/a5-bene401/releases/download/v1.0/export.pkl\", \"bird_model.pkl\")\r\n",
        "learn_inf = load_learner(\"bird_model.pkl\", cpu=True)\r\n",
        "\r\n",
        "# Widgets für Buttons, Darstellung des Bildes und der Ausgabe des Ergebnisses der Klassifikation definieren\r\n",
        "btn_upload = widgets.FileUpload()\r\n",
        "out_pl = widgets.Output()\r\n",
        "btn_run = widgets.Button(description='Klassifizierung')\r\n",
        "btn_get_birds = widgets.Button (description=\"Erkennbare Vögel\")\r\n",
        "lbl_pred = widgets.Label()\r\n",
        "lbl_birds_eng = widgets.Label()\r\n",
        "lbl_birds_deu = widgets.Label()\r\n",
        "\r\n",
        "\r\n",
        "# Bei Click Event auf Classify-Button Prediction für das zuvor eingefügte Bild abgeben. \r\n",
        "def on_click_classify(change):\r\n",
        "    img = PILImage.create(btn_upload.data[-1])\r\n",
        "    out_pl.clear_output()\r\n",
        "    lbl_pred.value=\"\"\r\n",
        "    with out_pl: display(img.to_thumb(325,325))\r\n",
        "    pred,pred_idx,probs = learn_inf.predict(img)\r\n",
        "    lbl_pred.value = f'Prediction: {birds[pred]}; Probability: {probs[pred_idx]:.04f}'\r\n",
        "\r\n",
        "def on_click_birds(change):\r\n",
        "  label = learn_inf.dls.vocab\r\n",
        "  label_deu = [birds[x] for x in label]\r\n",
        "  label_eng_string = \"English: \" + \", \".join(label)\r\n",
        "  label_ger_string = \"Deutsch: \" +\", \".join(label_deu)\r\n",
        "  lbl_birds_eng.value = label_eng_string\r\n",
        "  lbl_birds_deu.value = label_ger_string\r\n",
        "\r\n",
        "btn_run.on_click(on_click_classify)\r\n",
        "btn_get_birds.on_click(on_click_birds)\r\n",
        "\r\n",
        "# Durch VBox Elemente in Widgets transformieren und darstellen.\r\n",
        "VBox([widgets.Label('Zu klassifizierenden Vogel einfügen!'), \r\n",
        "      btn_upload, btn_run, out_pl, lbl_pred, btn_get_birds, lbl_birds_eng, lbl_birds_deu ])"
      ],
      "execution_count": null,
      "outputs": [
        {
          "output_type": "stream",
          "text": [
            "\u001b[K     |████████████████████████████████| 194kB 5.9MB/s \n",
            "\u001b[K     |████████████████████████████████| 61kB 7.5MB/s \n",
            "\u001b[?25h"
          ],
          "name": "stdout"
        }
      ]
    }
  ]
}